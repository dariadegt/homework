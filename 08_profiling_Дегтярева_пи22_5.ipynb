{
  "cells": [
    {
      "cell_type": "markdown",
      "metadata": {
        "id": "xOjQpxdSPeIM"
      },
      "source": [
        "## Оптимизация выполнения кода, векторизация, Numba"
      ]
    },
    {
      "cell_type": "markdown",
      "metadata": {
        "id": "R8sSLIFvPeIR"
      },
      "source": [
        "Материалы:\n",
        "* Макрушин С.В. Лекция 3: Оптимизация выполнения кода, векторизация, Numba\n",
        "* IPython Cookbook, Second Edition (2018), глава 4\n",
        "* https://numba.pydata.org/numba-doc/latest/user/5minguide.html"
      ]
    },
    {
      "cell_type": "markdown",
      "metadata": {
        "id": "rV6gJFW8PeIU"
      },
      "source": [
        "## Задачи для совместного разбора"
      ]
    },
    {
      "cell_type": "markdown",
      "metadata": {
        "id": "_plSe45DPeIX"
      },
      "source": [
        "1. Сгенерируйте массив `A` из `N=1млн` случайных целых чисел на отрезке от 0 до 1000. Пусть `B[i] = A[i] + 100`. Посчитайте среднее значение массива `B`."
      ]
    },
    {
      "cell_type": "code",
      "execution_count": 20,
      "metadata": {
        "id": "AfdiOMz-PeIZ",
        "colab": {
          "base_uri": "https://localhost:8080/"
        },
        "outputId": "9daadb18-e869-460c-e9c8-dfcada2d931c"
      },
      "outputs": [
        {
          "output_type": "stream",
          "name": "stdout",
          "text": [
            "599.864634\n"
          ]
        }
      ],
      "source": [
        "import random\n",
        "import statistics\n",
        "\n",
        "# генерируем массив A с N=1млн случайных целых чисел на отрезке от 0 до 1000\n",
        "N = 1000000\n",
        "A = [random.randint(0, 1000) for _ in range(N)]\n",
        "\n",
        "# создаем массив B\n",
        "B = [num + 100 for num in A]\n",
        "\n",
        "# вычисляем среднее значение массива B\n",
        "mean_B = statistics.mean(B)\n",
        "\n",
        "print(mean_B)"
      ]
    },
    {
      "cell_type": "markdown",
      "metadata": {
        "id": "waGA1RUUPeIb"
      },
      "source": [
        "2. Создайте таблицу 2млн строк и с 4 столбцами, заполненными случайными числами. Добавьте столбец `key`, которые содержит элементы из множества английских букв. Выберите из таблицы подмножество строк, для которых в столбце `key` указаны первые 5 английских букв."
      ]
    },
    {
      "cell_type": "code",
      "source": [
        "import pandas as pd\n",
        "import numpy as np\n",
        "import string\n",
        "\n",
        "# создаем таблицу с 2млн строк и 4 столбцами со случайными числами\n",
        "N = 2000000\n",
        "df = pd.DataFrame(np.random.randint(0, 1000, size=(N, 4)), columns=list('ABCD'))\n",
        "\n",
        "# добавляем столбец key с случайными выборками из первых пяти букв английского алфавита\n",
        "df['key'] = np.random.choice(list(string.ascii_uppercase)[:5], N)\n",
        "\n",
        "print(df.head())"
      ],
      "metadata": {
        "colab": {
          "base_uri": "https://localhost:8080/"
        },
        "id": "AbOzYj5Y1qy8",
        "outputId": "96da2f9d-960e-4145-f688-4806ec2e9cd3"
      },
      "execution_count": 21,
      "outputs": [
        {
          "output_type": "stream",
          "name": "stdout",
          "text": [
            "     A    B    C    D key\n",
            "0  323  712   62  886   B\n",
            "1  888  328   34   97   E\n",
            "2  503  481   59  170   C\n",
            "3  920   90   88  158   C\n",
            "4  716  167  332  161   C\n"
          ]
        }
      ]
    },
    {
      "cell_type": "markdown",
      "metadata": {
        "id": "iVLDg8mFPeIb"
      },
      "source": [
        "## Лабораторная работа 3"
      ]
    },
    {
      "cell_type": "code",
      "source": [
        "import pandas as pd\n"
      ],
      "metadata": {
        "id": "ygoF6OeHbcBD"
      },
      "execution_count": 1,
      "outputs": []
    },
    {
      "cell_type": "code",
      "execution_count": null,
      "metadata": {
        "id": "OQC9IgePPeIc"
      },
      "outputs": [],
      "source": [
        "# !pip install line_profiler"
      ]
    },
    {
      "cell_type": "markdown",
      "metadata": {
        "id": "A8UHvjNmPeIe"
      },
      "source": [
        "1. В файлах `recipes_sample.csv` и `reviews_sample.csv` (__ЛР 2__) находится информация об рецептах блюд и отзывах на эти рецепты соответственно. Загрузите данные из файлов в виде `pd.DataFrame` с названиями `recipes` и `reviews`. Обратите внимание на корректное считывание столбца(ов) с индексами. Приведите столбцы к нужным типам.\n",
        "\n",
        "Реализуйте несколько вариантов функции подсчета среднего значения столбца `rating` из таблицы `reviews` для отзывов, оставленных в 2010 году.\n",
        "\n",
        "A. С использованием метода `DataFrame.iterrows` исходной таблицы;\n",
        "\n",
        "Б. С использованием метода `DataFrame.iterrows` таблицы, в которой сохранены только отзывы за 2010 год;\n",
        "\n",
        "В. С использованием метода `Series.mean`.\n",
        "\n",
        "Проверьте, что результаты работы всех написанных функций корректны и совпадают. Измерьте выполнения всех написанных функций.\n"
      ]
    },
    {
      "cell_type": "code",
      "source": [
        "recipes = pd.read_csv('recipes_sample.csv').dropna()\n",
        "reviews = pd.read_csv('reviews_sample.csv').dropna()"
      ],
      "metadata": {
        "id": "v1zfMihHa3tU"
      },
      "execution_count": 5,
      "outputs": []
    },
    {
      "cell_type": "code",
      "source": [
        "print(recipes.dtypes)\n",
        "print('')\n",
        "print(reviews.dtypes)"
      ],
      "metadata": {
        "colab": {
          "base_uri": "https://localhost:8080/"
        },
        "id": "Wn02TJ7vhDK1",
        "outputId": "773fea8c-700f-4554-8f53-c22c8271674a"
      },
      "execution_count": 11,
      "outputs": [
        {
          "output_type": "stream",
          "name": "stdout",
          "text": [
            "name                      object\n",
            "id                         int64\n",
            "minutes                    int64\n",
            "contributor_id             int64\n",
            "submitted         datetime64[ns]\n",
            "n_steps                  float64\n",
            "description               object\n",
            "n_ingredients            float64\n",
            "dtype: object\n",
            "\n",
            "Unnamed: 0             int64\n",
            "user_id                int64\n",
            "recipe_id              int64\n",
            "date          datetime64[ns]\n",
            "rating                 int64\n",
            "review                object\n",
            "dtype: object\n"
          ]
        }
      ]
    },
    {
      "cell_type": "code",
      "source": [
        "recipes['submitted'] = pd.to_datetime(recipes['submitted'])\n",
        "reviews['date'] = pd.to_datetime(reviews['date'])"
      ],
      "metadata": {
        "id": "l_tEoIP-hWyG"
      },
      "execution_count": 10,
      "outputs": []
    },
    {
      "cell_type": "code",
      "source": [
        "import pandas as pd\n",
        "import time\n",
        "\n",
        "\n",
        "def calculate_mean_rating_a(reviews):\n",
        "    count = 0\n",
        "    ratings_sum = 0\n",
        "    for _, row in reviews.iterrows():\n",
        "        if pd.to_datetime(row['date']).year == 2010:\n",
        "            ratings_sum += row['rating']\n",
        "            count += 1\n",
        "    return ratings_sum / count\n",
        "\n",
        "\n",
        "def calculate_mean_rating_b(reviews):\n",
        "    count = 0\n",
        "    ratings_sum = 0\n",
        "    for _, row in reviews[reviews['date'].dt.year == 2010].iterrows():\n",
        "        ratings_sum += row['rating']\n",
        "        count += 1\n",
        "    return ratings_sum / count\n",
        "\n",
        "\n",
        "def calculate_mean_rating_c(reviews):\n",
        "    return reviews[reviews['date'].dt.year == 2010]['rating'].mean()\n",
        "\n",
        "\n",
        "recipes = pd.read_csv('recipes_sample.csv', index_col=0)\n",
        "reviews = pd.read_csv('reviews_sample.csv', index_col=0)\n",
        "\n",
        "reviews['rating'] = reviews['rating'].astype(float)\n",
        "reviews['date'] = pd.to_datetime(reviews['date'])\n",
        "\n",
        "\n",
        "start_time = time.time()\n",
        "mean_rating_a = calculate_mean_rating_a(reviews)\n",
        "end_time = time.time()\n",
        "print(f\"Средний рейтинг (метод A): {mean_rating_a} Время выполнения: {end_time-start_time}\")\n",
        "\n",
        "start_time = time.time()\n",
        "mean_rating_b = calculate_mean_rating_b(reviews)\n",
        "end_time = time.time()\n",
        "print(f\"Средний рейтинг (метод B): {mean_rating_b} Время выполнения: {end_time-start_time}\")\n",
        "\n",
        "start_time = time.time()\n",
        "mean_rating_c = calculate_mean_rating_c(reviews)\n",
        "end_time = time.time()\n",
        "print(f\"Средний рейтинг (метод C): {mean_rating_c} Время выполнения: {end_time-start_time}\")"
      ],
      "metadata": {
        "colab": {
          "base_uri": "https://localhost:8080/"
        },
        "id": "ZYNx2TipxKiW",
        "outputId": "43e8448f-ebbe-4c1f-ca65-c2dcd51df8a9"
      },
      "execution_count": 15,
      "outputs": [
        {
          "output_type": "stream",
          "name": "stdout",
          "text": [
            "Средний рейтинг (метод A): 4.4544402182900615 Время выполнения: 6.360488176345825\n",
            "Средний рейтинг (метод B): 4.4544402182900615 Время выполнения: 0.8165831565856934\n",
            "Средний рейтинг (метод C): 4.4544402182900615 Время выполнения: 0.026965856552124023\n"
          ]
        }
      ]
    },
    {
      "cell_type": "markdown",
      "metadata": {
        "id": "dTHD6XAfPeIh"
      },
      "source": [
        "2. Какая из созданных функций выполняется медленнее? Что наиболее сильно влияет на скорость выполнения? Для ответа использовать профайлер `line_profiler`. Сохраните результаты работы профайлера в отдельную текстовую ячейку и прокомментируйте результаты его работы.\n",
        "\n",
        "(*). Сможете ли вы ускорить работу функции 1Б, отказавшись от использования метода `iterrows`, но не используя метод `mean`?"
      ]
    },
    {
      "cell_type": "code",
      "source": [
        "%load_ext line_profiler"
      ],
      "metadata": {
        "id": "vPlLn7z5z_aS"
      },
      "execution_count": null,
      "outputs": []
    },
    {
      "cell_type": "code",
      "source": [
        "%lprun -f calculate_mean_rating_b calculate_mean_rating_b(reviews)"
      ],
      "metadata": {
        "id": "C67JSfnT0Cyq"
      },
      "execution_count": null,
      "outputs": []
    },
    {
      "cell_type": "markdown",
      "metadata": {
        "id": "iZ8EcJtrPeIi"
      },
      "source": [
        "3. Вам предлагается воспользоваться функцией, которая собирает статистику о том, сколько отзывов содержат то или иное слово. Измерьте время выполнения этой функции. Сможете ли вы найти узкие места в коде, используя профайлер? Выпишите (словами), что в имеющемся коде реализовано неоптимально. Оптимизируйте функцию и добейтесь значительного (как минимум, на один порядок) прироста в скорости выполнения."
      ]
    },
    {
      "cell_type": "code",
      "execution_count": 12,
      "metadata": {
        "id": "UQ2RQ-VyPeIj",
        "colab": {
          "base_uri": "https://localhost:8080/"
        },
        "outputId": "2ccc0d2a-7ee3-4c18-9803-c9b16c3441ca"
      },
      "outputs": [
        {
          "output_type": "stream",
          "name": "stdout",
          "text": [
            "CPU times: user 8 µs, sys: 0 ns, total: 8 µs\n",
            "Wall time: 25.3 µs\n"
          ]
        }
      ],
      "source": [
        "%%time\n",
        "\n",
        "def get_word_reviews_count(df):\n",
        "    word_reviews = {}\n",
        "    for _, row in df.dropna(subset=['review']).iterrows():\n",
        "        recipe_id, review = row['recipe_id'], row['review']\n",
        "        words = review.split(' ')\n",
        "        for word in words:\n",
        "            if word not in word_reviews:\n",
        "                word_reviews[word] = []\n",
        "            word_reviews[word].append(recipe_id)\n",
        "    \n",
        "    word_reviews_count = {}\n",
        "    for _, row in df.dropna(subset=['review']).iterrows():\n",
        "        review = row['review']\n",
        "        words = review.split(' ')\n",
        "        for word in words:\n",
        "            word_reviews_count[word] = len(word_reviews[word])\n",
        "    return word_reviews_count"
      ]
    },
    {
      "cell_type": "code",
      "source": [
        "%%time\n",
        "\n",
        "from collections import defaultdict\n",
        "\n",
        "def get_word_reviews_count(df):\n",
        "    word_reviews = defaultdict(list)   #defaultdict никогда не вызывает никаких KeyError, поскольку он предоставляет значение по умолчанию для ключа, которого нет в словаре, созданном пользователем\n",
        "    word_reviews_count = defaultdict(int)\n",
        "    for _, row in df.dropna(subset=['review']).iterrows():\n",
        "        recipe_id, review = row['recipe_id'], row['review']\n",
        "        words = review.split()\n",
        "        unique_words = set(words) \n",
        "        for word in unique_words:\n",
        "            word_reviews[word].append(recipe_id)\n",
        "            word_reviews_count[word] += 1\n",
        "        \n",
        "    return dict(word_reviews_count)\n"
      ],
      "metadata": {
        "colab": {
          "base_uri": "https://localhost:8080/"
        },
        "id": "n47-r7h2p23v",
        "outputId": "81cc370e-24b3-4d52-bc57-894aa0c5c069"
      },
      "execution_count": 14,
      "outputs": [
        {
          "output_type": "stream",
          "name": "stdout",
          "text": [
            "CPU times: user 12 µs, sys: 1 µs, total: 13 µs\n",
            "Wall time: 17.6 µs\n"
          ]
        }
      ]
    },
    {
      "cell_type": "markdown",
      "source": [
        "Основные изменения включают в себя:\n",
        "\n",
        "  * Использование defaultdict из модуля collections, чтобы избежать проверки \n",
        "наличия ключа в словаре перед доступом к нему.\n",
        "\n",
        "  * Вычисление уникальных слов в каждом отзыве с использованием набора, чтобы избежать повторного подсчета одного и того же рецепта.\n",
        "\n",
        "  * Использование одного цикла для обновления словарей word_reviews и word_reviews_count с сохранением одной итерации по фрейму данных\n",
        "\n",
        "  * удалилa аргумент в методе split(), поскольку по умолчанию он разбивается на пробелы."
      ],
      "metadata": {
        "id": "pzh7GkEWukhI"
      }
    },
    {
      "cell_type": "markdown",
      "metadata": {
        "id": "GlTZNfA6PeIm"
      },
      "source": [
        "4. Напишите несколько версий функции `MAPE` (см. [MAPE](https://en.wikipedia.org/wiki/Mean_absolute_percentage_error)) для расчета среднего абсолютного процентного отклонения значения рейтинга отзыва на рецепт от среднего значения рейтинга по всем отзывам для этого рецепта. \n",
        "    1. Без использования векторизованных операций и методов массивов `numpy` и без использования `numba`\n",
        "    2. Без использования векторизованных операций и методов массивов `numpy`, но с использованием `numba`\n",
        "    3. С использованием векторизованных операций и методов массивов `numpy`, но без использования `numba`\n",
        "    4. C использованием векторизованных операций и методов массивов `numpy` и `numba`\n",
        "    \n",
        "Измерьте время выполнения каждой из реализаций.\n",
        "\n",
        "Замечание: удалите из выборки отзывы с нулевым рейтингом.\n"
      ]
    },
    {
      "cell_type": "code",
      "source": [
        "import pandas as pd\n",
        "import numpy as np\n",
        "from numba import jit\n",
        "\n",
        "# удаляем отзывы с нулевым рейтингом.\n",
        "reviews = reviews[reviews['rating'] > 0]\n",
        "\n",
        "def mape(ratings):\n",
        "    \"\"\"\n",
        "    Calculate the MAPE for the given ratings.\n",
        "    \"\"\"\n",
        "    mean_rating = np.mean(ratings)\n",
        "    abs_pct_error = np.abs(ratings - mean_rating) / mean_rating\n",
        "    mape = np.mean(abs_pct_error) * 100\n",
        "    return mape\n",
        "\n",
        "# Версия 1: Без использования векторизованных операций и методов массивов numpy и без использования numba\n",
        "def mape_v1(reviews):\n",
        "    mape_values = []\n",
        "    for recipe_id in reviews['recipe_id'].unique():\n",
        "        recipe_reviews = reviews[reviews['recipe_id'] == recipe_id]\n",
        "        ratings = recipe_reviews['rating']\n",
        "        mape_ = mape(ratings)\n",
        "        mape_values.append(mape_)\n",
        "    return mape_values\n",
        "\n",
        "# Версия 2: Без использования векторизованных операций и методов массивов numpy, но с использованием numba\n",
        "@jit(nopython=True)\n",
        "def mape_numba(ratings, mean_rating):\n",
        "    \"\"\"\n",
        "    Calculate the MAPE for the given ratings using numba to speed up the\n",
        "    calculations.\n",
        "    \"\"\"\n",
        "    n = ratings.shape[0]\n",
        "    abs_pct_error = np.empty(n)\n",
        "    for i in range(n):\n",
        "        abs_pct_error[i] = abs(ratings[i] - mean_rating) / mean_rating\n",
        "    mape = np.mean(abs_pct_error) * 100\n",
        "    return mape\n",
        "\n",
        "def mape_v2(reviews):\n",
        "    mape_values = []\n",
        "    for recipe_id in reviews['recipe_id'].unique():\n",
        "        recipe_reviews = reviews[reviews['recipe_id'] == recipe_id]\n",
        "        ratings = recipe_reviews['rating']\n",
        "        mean_rating = np.mean(ratings)\n",
        "        mape_ = mape_numba(ratings.values, mean_rating)\n",
        "        mape_values.append(mape_)\n",
        "    return mape_values\n",
        "\n",
        "                                   \n",
        "# Версия 3: С использованием векторизованных операций и методов массивов numpy, но без использования numba\n",
        "def mape_v3(reviews):\n",
        "    recipe_ids = reviews['recipe_id'].unique()\n",
        "    mean_ratings = reviews.groupby('recipe_id')['rating'].transform('mean')\n",
        "    mape_values = []\n",
        "    for i, recipe_id in enumerate(recipe_ids):\n",
        "        recipe_reviews = reviews[reviews['recipe_id'] == recipe_id]\n",
        "        ratings = recipe_reviews['rating']\n",
        "        mean_rating = mean_ratings[i]\n",
        "        abs_pct_error = np.abs(ratings - mean_rating) / mean_rating\n",
        "        mape = np.mean(abs_pct_error) * 100\n",
        "        mape_values.append(mape)\n",
        "    return mape_values\n",
        "\n",
        "# Версия 4: C использованием векторизованных операций и методов массивов numpy и numba\n",
        "@jit(nopython=True)\n",
        "def mape_numba_v2(ratings, mean_rating):\n",
        "    \"\"\"\n",
        "    Calculate the MAPE for the given ratings using vectorization and numba to\n",
        "    speed up the calculations.\n",
        "    \"\"\"\n",
        "    abs_pct_error = np.abs(ratings - mean_rating) / mean_rating\n",
        "    mape = np.mean(abs_pct_error) * 100\n",
        "    return mape\n",
        "\n",
        "def mape_v4(reviews):\n",
        "    recipe_ids = reviews['recipe_id'].unique()\n",
        "    mean_ratings = reviews.groupby('recipe_id')['rating'].transform('mean').values\n",
        "    mape_values = np.empty(len(recipe_ids))\n",
        "    for i, recipe_id in enumerate(recipe_ids):\n",
        "        recipe_reviews = reviews[reviews['recipe_id'] == recipe_id]\n",
        "        ratings = recipe_reviews['rating'].values\n",
        "        mean_rating = mean_ratings[i]\n",
        "        mape = mape_numba_v2(ratings, mean_rating)\n",
        "        mape_values[i] = mape\n",
        "    return mape_values\n",
        "\n"
      ],
      "metadata": {
        "id": "wA0mElHY0K4j"
      },
      "execution_count": 19,
      "outputs": []
    }
  ],
  "metadata": {
    "kernelspec": {
      "display_name": "Python 3",
      "language": "python",
      "name": "python3"
    },
    "language_info": {
      "codemirror_mode": {
        "name": "ipython",
        "version": 3
      },
      "file_extension": ".py",
      "mimetype": "text/x-python",
      "name": "python",
      "nbconvert_exporter": "python",
      "pygments_lexer": "ipython3",
      "version": "3.7.4"
    },
    "colab": {
      "provenance": []
    }
  },
  "nbformat": 4,
  "nbformat_minor": 0
}