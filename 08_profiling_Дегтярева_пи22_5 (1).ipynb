{
  "cells": [
    {
      "cell_type": "markdown",
      "metadata": {
        "id": "xOjQpxdSPeIM"
      },
      "source": [
        "## Оптимизация выполнения кода, векторизация, Numba"
      ]
    },
    {
      "cell_type": "markdown",
      "metadata": {
        "id": "R8sSLIFvPeIR"
      },
      "source": [
        "Материалы:\n",
        "* Макрушин С.В. Лекция 3: Оптимизация выполнения кода, векторизация, Numba\n",
        "* IPython Cookbook, Second Edition (2018), глава 4\n",
        "* https://numba.pydata.org/numba-doc/latest/user/5minguide.html"
      ]
    },
    {
      "cell_type": "markdown",
      "metadata": {
        "id": "rV6gJFW8PeIU"
      },
      "source": [
        "## Задачи для совместного разбора"
      ]
    },
    {
      "cell_type": "markdown",
      "metadata": {
        "id": "_plSe45DPeIX"
      },
      "source": [
        "1. Сгенерируйте массив `A` из `N=1млн` случайных целых чисел на отрезке от 0 до 1000. Пусть `B[i] = A[i] + 100`. Посчитайте среднее значение массива `B`."
      ]
    },
    {
      "cell_type": "code",
      "execution_count": null,
      "metadata": {
        "id": "AfdiOMz-PeIZ",
        "colab": {
          "base_uri": "https://localhost:8080/"
        },
        "outputId": "9daadb18-e869-460c-e9c8-dfcada2d931c"
      },
      "outputs": [
        {
          "output_type": "stream",
          "name": "stdout",
          "text": [
            "599.864634\n"
          ]
        }
      ],
      "source": [
        "import random\n",
        "import statistics\n",
        "\n",
        "# генерируем массив A с N=1млн случайных целых чисел на отрезке от 0 до 1000\n",
        "N = 1000000\n",
        "A = [random.randint(0, 1000) for _ in range(N)]\n",
        "\n",
        "# создаем массив B\n",
        "B = [num + 100 for num in A]\n",
        "\n",
        "# вычисляем среднее значение массива B\n",
        "mean_B = statistics.mean(B)\n",
        "\n",
        "print(mean_B)"
      ]
    },
    {
      "cell_type": "markdown",
      "metadata": {
        "id": "waGA1RUUPeIb"
      },
      "source": [
        "2. Создайте таблицу 2млн строк и с 4 столбцами, заполненными случайными числами. Добавьте столбец `key`, которые содержит элементы из множества английских букв. Выберите из таблицы подмножество строк, для которых в столбце `key` указаны первые 5 английских букв."
      ]
    },
    {
      "cell_type": "code",
      "source": [
        "import pandas as pd\n",
        "import numpy as np\n",
        "import string\n",
        "\n",
        "# создаем таблицу с 2млн строк и 4 столбцами со случайными числами\n",
        "N = 2000000\n",
        "df = pd.DataFrame(np.random.randint(0, 1000, size=(N, 4)), columns=list('ABCD'))\n",
        "\n",
        "# добавляем столбец key с случайными выборками из первых пяти букв английского алфавита\n",
        "df['key'] = np.random.choice(list(string.ascii_uppercase)[:5], N)\n",
        "\n",
        "print(df.head())"
      ],
      "metadata": {
        "colab": {
          "base_uri": "https://localhost:8080/"
        },
        "id": "AbOzYj5Y1qy8",
        "outputId": "96da2f9d-960e-4145-f688-4806ec2e9cd3"
      },
      "execution_count": null,
      "outputs": [
        {
          "output_type": "stream",
          "name": "stdout",
          "text": [
            "     A    B    C    D key\n",
            "0  323  712   62  886   B\n",
            "1  888  328   34   97   E\n",
            "2  503  481   59  170   C\n",
            "3  920   90   88  158   C\n",
            "4  716  167  332  161   C\n"
          ]
        }
      ]
    },
    {
      "cell_type": "markdown",
      "metadata": {
        "id": "iVLDg8mFPeIb"
      },
      "source": [
        "## Лабораторная работа 3"
      ]
    },
    {
      "cell_type": "code",
      "source": [
        "import pandas as pd\n"
      ],
      "metadata": {
        "id": "ygoF6OeHbcBD"
      },
      "execution_count": 8,
      "outputs": []
    },
    {
      "cell_type": "code",
      "execution_count": null,
      "metadata": {
        "id": "OQC9IgePPeIc"
      },
      "outputs": [],
      "source": [
        "# !pip install line_profiler"
      ]
    },
    {
      "cell_type": "markdown",
      "metadata": {
        "id": "A8UHvjNmPeIe"
      },
      "source": [
        "1. В файлах `recipes_sample.csv` и `reviews_sample.csv` (__ЛР 2__) находится информация об рецептах блюд и отзывах на эти рецепты соответственно. Загрузите данные из файлов в виде `pd.DataFrame` с названиями `recipes` и `reviews`. Обратите внимание на корректное считывание столбца(ов) с индексами. Приведите столбцы к нужным типам.\n",
        "\n",
        "Реализуйте несколько вариантов функции подсчета среднего значения столбца `rating` из таблицы `reviews` для отзывов, оставленных в 2010 году.\n",
        "\n",
        "A. С использованием метода `DataFrame.iterrows` исходной таблицы;\n",
        "\n",
        "Б. С использованием метода `DataFrame.iterrows` таблицы, в которой сохранены только отзывы за 2010 год;\n",
        "\n",
        "В. С использованием метода `Series.mean`.\n",
        "\n",
        "Проверьте, что результаты работы всех написанных функций корректны и совпадают. Измерьте выполнения всех написанных функций.\n"
      ]
    },
    {
      "cell_type": "code",
      "source": [
        "recipes = pd.read_csv('recipes_sample.csv').dropna()\n",
        "reviews = pd.read_csv('reviews_sample.csv').dropna()"
      ],
      "metadata": {
        "id": "v1zfMihHa3tU"
      },
      "execution_count": 14,
      "outputs": []
    },
    {
      "cell_type": "code",
      "source": [
        "print(recipes.dtypes)\n",
        "print('')\n",
        "print(reviews.dtypes)"
      ],
      "metadata": {
        "colab": {
          "base_uri": "https://localhost:8080/"
        },
        "id": "Wn02TJ7vhDK1",
        "outputId": "f27a253c-4ba5-45d0-e314-4fb7729466a2"
      },
      "execution_count": 15,
      "outputs": [
        {
          "output_type": "stream",
          "name": "stdout",
          "text": [
            "name               object\n",
            "id                  int64\n",
            "minutes             int64\n",
            "contributor_id      int64\n",
            "submitted          object\n",
            "n_steps           float64\n",
            "description        object\n",
            "n_ingredients     float64\n",
            "dtype: object\n",
            "\n",
            "Unnamed: 0     int64\n",
            "user_id        int64\n",
            "recipe_id      int64\n",
            "date          object\n",
            "rating         int64\n",
            "review        object\n",
            "dtype: object\n"
          ]
        }
      ]
    },
    {
      "cell_type": "code",
      "source": [
        "recipes['submitted'] = pd.to_datetime(recipes['submitted'])\n",
        "reviews['date'] = pd.to_datetime(reviews['date'])"
      ],
      "metadata": {
        "id": "l_tEoIP-hWyG"
      },
      "execution_count": 16,
      "outputs": []
    },
    {
      "cell_type": "code",
      "source": [
        "import pandas as pd\n",
        "import time\n",
        "\n",
        "\n",
        "def calculate_mean_rating_a(reviews):\n",
        "    count = 0\n",
        "    ratings_sum = 0\n",
        "    for _, row in reviews.iterrows():\n",
        "        if pd.to_datetime(row['date']).year == 2010:\n",
        "            ratings_sum += row['rating']\n",
        "            count += 1\n",
        "    return ratings_sum / count\n",
        "\n",
        "\n",
        "def calculate_mean_rating_b(reviews):\n",
        "    count = 0\n",
        "    ratings_sum = 0\n",
        "    for _, row in reviews[reviews['date'].dt.year == 2010].iterrows():\n",
        "        ratings_sum += row['rating']\n",
        "        count += 1\n",
        "    return ratings_sum / count\n",
        "\n",
        "\n",
        "def calculate_mean_rating_c(reviews):\n",
        "    return reviews[reviews['date'].dt.year == 2010]['rating'].mean()\n",
        "\n",
        "\n",
        "recipes = pd.read_csv('recipes_sample.csv', index_col=0)\n",
        "reviews = pd.read_csv('reviews_sample.csv', index_col=0)\n",
        "\n",
        "reviews['rating'] = reviews['rating'].astype(float)\n",
        "reviews['date'] = pd.to_datetime(reviews['date'])\n",
        "\n",
        "\n",
        "start_time = time.time()\n",
        "mean_rating_a = calculate_mean_rating_a(reviews)\n",
        "end_time = time.time()\n",
        "print(f\"Средний рейтинг (метод A): {mean_rating_a} Время выполнения: {end_time-start_time}\")\n",
        "\n",
        "start_time = time.time()\n",
        "mean_rating_b = calculate_mean_rating_b(reviews)\n",
        "end_time = time.time()\n",
        "print(f\"Средний рейтинг (метод B): {mean_rating_b} Время выполнения: {end_time-start_time}\")\n",
        "\n",
        "start_time = time.time()\n",
        "mean_rating_c = calculate_mean_rating_c(reviews)\n",
        "end_time = time.time()\n",
        "print(f\"Средний рейтинг (метод C): {mean_rating_c} Время выполнения: {end_time-start_time}\")"
      ],
      "metadata": {
        "colab": {
          "base_uri": "https://localhost:8080/"
        },
        "id": "ZYNx2TipxKiW",
        "outputId": "5e385af6-822a-410c-eaaa-3cfdc680a3e5"
      },
      "execution_count": 17,
      "outputs": [
        {
          "output_type": "stream",
          "name": "stdout",
          "text": [
            "Средний рейтинг (метод A): 4.4544402182900615 Время выполнения: 6.9655444622039795\n",
            "Средний рейтинг (метод B): 4.4544402182900615 Время выполнения: 0.5262711048126221\n",
            "Средний рейтинг (метод C): 4.4544402182900615 Время выполнения: 0.023606061935424805\n"
          ]
        }
      ]
    },
    {
      "cell_type": "markdown",
      "metadata": {
        "id": "dTHD6XAfPeIh"
      },
      "source": [
        "2. Какая из созданных функций выполняется медленнее? Что наиболее сильно влияет на скорость выполнения? Для ответа использовать профайлер `line_profiler`. Сохраните результаты работы профайлера в отдельную текстовую ячейку и прокомментируйте результаты его работы.\n",
        "\n",
        "(*). Сможете ли вы ускорить работу функции 1Б, отказавшись от использования метода `iterrows`, но не используя метод `mean`?"
      ]
    },
    {
      "cell_type": "code",
      "source": [
        "!pip install  line_profiler\n",
        "%load_ext line_profiler\n",
        "!pip install memory_profiler\n",
        "%load_ext memory_profiler"
      ],
      "metadata": {
        "colab": {
          "base_uri": "https://localhost:8080/"
        },
        "id": "sSFyNJMu66Je",
        "outputId": "f04f12d0-45d9-4203-efb1-1a4183b042ca"
      },
      "execution_count": 4,
      "outputs": [
        {
          "output_type": "stream",
          "name": "stdout",
          "text": [
            "Looking in indexes: https://pypi.org/simple, https://us-python.pkg.dev/colab-wheels/public/simple/\n",
            "Requirement already satisfied: line_profiler in /usr/local/lib/python3.10/dist-packages (4.0.3)\n",
            "The line_profiler extension is already loaded. To reload it, use:\n",
            "  %reload_ext line_profiler\n",
            "Looking in indexes: https://pypi.org/simple, https://us-python.pkg.dev/colab-wheels/public/simple/\n",
            "Collecting memory_profiler\n",
            "  Downloading memory_profiler-0.61.0-py3-none-any.whl (31 kB)\n",
            "Requirement already satisfied: psutil in /usr/local/lib/python3.10/dist-packages (from memory_profiler) (5.9.5)\n",
            "Installing collected packages: memory_profiler\n",
            "Successfully installed memory_profiler-0.61.0\n"
          ]
        }
      ]
    },
    {
      "cell_type": "code",
      "source": [
        "%load_ext line_profiler"
      ],
      "metadata": {
        "id": "vPlLn7z5z_aS",
        "colab": {
          "base_uri": "https://localhost:8080/"
        },
        "outputId": "df232854-38dd-4648-c4d6-1738b994ff17"
      },
      "execution_count": 5,
      "outputs": [
        {
          "output_type": "stream",
          "name": "stdout",
          "text": [
            "The line_profiler extension is already loaded. To reload it, use:\n",
            "  %reload_ext line_profiler\n"
          ]
        }
      ]
    },
    {
      "cell_type": "code",
      "source": [
        "%lprun -f calculate_mean_rating_b calculate_mean_rating_b(reviews)"
      ],
      "metadata": {
        "id": "C67JSfnT0Cyq"
      },
      "execution_count": 18,
      "outputs": []
    },
    {
      "cell_type": "markdown",
      "source": [
        "Timer unit: 1e-09 s\n",
        "\n",
        "Total time: 0.981097 s\n",
        "File: <ipython-input-17-72b63062a01d>\n",
        "Function: calculate_mean_rating_b at line 15\n",
        "\n",
        "Line #      Hits         Time  Per Hit   % Time  Line Contents\n",
        "==============================================================\n",
        "    15                                           def calculate_mean_rating_b(reviews):\n",
        "    16         1       5566.0   5566.0      0.0      count = 0\n",
        "    17         1        255.0    255.0      0.0      ratings_sum = 0\n",
        "    18     12094  852368609.0  70478.6     86.9      for _, row in reviews[reviews['date'].dt.year == 2010].iterrows():\n",
        "    19     12094  123713745.0  10229.3     12.6          ratings_sum += row['rating']\n",
        "    20     12094    5006373.0    414.0      0.5          count += 1\n",
        "    21         1       2139.0   2139.0      0.0      return ratings_sum / count"
      ],
      "metadata": {
        "id": "9t_oZnPAAwht"
      }
    },
    {
      "cell_type": "code",
      "source": [
        "%lprun -f calculate_mean_rating_a calculate_mean_rating_b(reviews)"
      ],
      "metadata": {
        "id": "kYMAu3WHA3q0"
      },
      "execution_count": 19,
      "outputs": []
    },
    {
      "cell_type": "markdown",
      "source": [
        "Timer unit: 1e-09 s\n",
        "\n",
        "Total time: 0 s\n",
        "File: <ipython-input-17-72b63062a01d>\n",
        "Function: calculate_mean_rating_a at line 5\n",
        "\n",
        "Line #      Hits         Time  Per Hit   % Time  Line Contents\n",
        "==============================================================\n",
        "     5                                           def calculate_mean_rating_a(reviews):\n",
        "     6                                               count = 0\n",
        "     7                                               ratings_sum = 0\n",
        "     8                                               for _, row in reviews.iterrows():\n",
        "     9                                                   if pd.to_datetime(row['date']).year == 2010:\n",
        "    10                                                       ratings_sum += row['rating']\n",
        "    11                                                       count += 1\n",
        "    12                                               return ratings_sum / count"
      ],
      "metadata": {
        "id": "7KpuGTduBBnU"
      }
    },
    {
      "cell_type": "code",
      "source": [
        "%lprun -f calculate_mean_rating_a calculate_mean_rating_c(reviews)"
      ],
      "metadata": {
        "id": "bEomO7p4A3xk"
      },
      "execution_count": 20,
      "outputs": []
    },
    {
      "cell_type": "markdown",
      "source": [
        "Timer unit: 1e-09 s\n",
        "\n",
        "Total time: 0 s\n",
        "File: <ipython-input-17-72b63062a01d>\n",
        "Function: calculate_mean_rating_a at line 5\n",
        "\n",
        "Line #      Hits         Time  Per Hit   % Time  Line Contents\n",
        "==============================================================\n",
        "     5                                           def calculate_mean_rating_a(reviews):\n",
        "     6                                               count = 0\n",
        "     7                                               ratings_sum = 0\n",
        "     8                                               for _, row in reviews.iterrows():\n",
        "     9                                                   if pd.to_datetime(row['date']).year == 2010:\n",
        "    10                                                       ratings_sum += row['rating']\n",
        "    11                                                       count += 1\n",
        "    12                                               return ratings_sum / count"
      ],
      "metadata": {
        "id": "cmfJNc_rCbfk"
      }
    },
    {
      "cell_type": "markdown",
      "metadata": {
        "id": "iZ8EcJtrPeIi"
      },
      "source": [
        "3. Вам предлагается воспользоваться функцией, которая собирает статистику о том, сколько отзывов содержат то или иное слово. Измерьте время выполнения этой функции. Сможете ли вы найти узкие места в коде, используя профайлер? Выпишите (словами), что в имеющемся коде реализовано неоптимально. Оптимизируйте функцию и добейтесь значительного (как минимум, на один порядок) прироста в скорости выполнения."
      ]
    },
    {
      "cell_type": "code",
      "execution_count": 22,
      "metadata": {
        "id": "UQ2RQ-VyPeIj",
        "colab": {
          "base_uri": "https://localhost:8080/"
        },
        "outputId": "40baffb3-47d2-4c56-c600-8b7e41939dd2"
      },
      "outputs": [
        {
          "output_type": "stream",
          "name": "stdout",
          "text": [
            "CPU times: user 7 µs, sys: 0 ns, total: 7 µs\n",
            "Wall time: 12.6 µs\n"
          ]
        }
      ],
      "source": [
        "%%time\n",
        "\n",
        "def get_word_reviews_count(df):\n",
        "    word_reviews = {}\n",
        "    for _, row in df.dropna(subset=['review']).iterrows():\n",
        "        recipe_id, review = row['recipe_id'], row['review']\n",
        "        words = review.split(' ')\n",
        "        for word in words:\n",
        "            if word not in word_reviews:\n",
        "                word_reviews[word] = []\n",
        "            word_reviews[word].append(recipe_id)\n",
        "    \n",
        "    word_reviews_count = {}\n",
        "    for _, row in df.dropna(subset=['review']).iterrows():\n",
        "        review = row['review']\n",
        "        words = review.split(' ')\n",
        "        for word in words:\n",
        "            word_reviews_count[word] = len(word_reviews[word])\n",
        "    return word_reviews_count"
      ]
    },
    {
      "cell_type": "code",
      "source": [
        "%lprun -f get_word_reviews_count get_word_reviews_count(reviews)"
      ],
      "metadata": {
        "id": "72G_mvHeDgwH"
      },
      "execution_count": 23,
      "outputs": []
    },
    {
      "cell_type": "markdown",
      "source": [
        "Timer unit: 1e-09 s\n",
        "\n",
        "Total time: 47.0812 s\n",
        "\n",
        "Could not find file <timed exec>\n",
        "\n",
        "Line #      Hits         Time  Per Hit   % Time  Line Contents\n",
        "==============================================================\n",
        "     1                                           \n",
        "     2         1       2849.0   2849.0      0.0  \n",
        "     3    126679 11585109534.0  91452.5     24.6  \n",
        "     4    126679 2633481774.0  20788.6      5.6  \n",
        "     5    126679  663767818.0   5239.8      1.4  \n",
        "     6   6792010 1664056311.0    245.0      3.5  \n",
        "     7   6617066 3367575540.0    508.9      7.2  \n",
        "     8    174944  101751589.0    581.6      0.2  \n",
        "     9   6792010 4527136763.0    666.5      9.6  \n",
        "    10                                           \n",
        "    11         1        976.0    976.0      0.0  \n",
        "    12    126679 11819918448.0  93306.1     25.1  \n",
        "    13    126679 1706331597.0  13469.7      3.6  \n",
        "    14    126679  665208274.0   5251.1      1.4  \n",
        "    15   6792010 1753453289.0    258.2      3.7  \n",
        "    16   6792010 6593365517.0    970.8     14.0  \n",
        "    17         1       1131.0   1131.0      0.0"
      ],
      "metadata": {
        "id": "JzBIU5GnFNCS"
      }
    },
    {
      "cell_type": "code",
      "source": [
        "%%time\n",
        "\n",
        "from collections import defaultdict\n",
        "\n",
        "def get_word_reviews_count(df):\n",
        "    word_reviews = defaultdict(list)   #defaultdict никогда не вызывает никаких KeyError, поскольку он предоставляет значение по умолчанию для ключа, которого нет в словаре, созданном пользователем\n",
        "    word_reviews_count = defaultdict(int)\n",
        "    for _, row in df.dropna(subset=['review']).iterrows():\n",
        "        recipe_id, review = row['recipe_id'], row['review']\n",
        "        words = review.split()\n",
        "        unique_words = set(words) \n",
        "        for word in unique_words:\n",
        "            word_reviews[word].append(recipe_id)\n",
        "            word_reviews_count[word] += 1\n",
        "        \n",
        "    return dict(word_reviews_count)\n"
      ],
      "metadata": {
        "colab": {
          "base_uri": "https://localhost:8080/"
        },
        "id": "n47-r7h2p23v",
        "outputId": "81cc370e-24b3-4d52-bc57-894aa0c5c069"
      },
      "execution_count": null,
      "outputs": [
        {
          "output_type": "stream",
          "name": "stdout",
          "text": [
            "CPU times: user 12 µs, sys: 1 µs, total: 13 µs\n",
            "Wall time: 17.6 µs\n"
          ]
        }
      ]
    },
    {
      "cell_type": "markdown",
      "source": [
        "Основные изменения включают в себя:\n",
        "\n",
        "  * Использование defaultdict из модуля collections, чтобы избежать проверки \n",
        "наличия ключа в словаре перед доступом к нему.\n",
        "\n",
        "  * Вычисление уникальных слов в каждом отзыве с использованием набора, чтобы избежать повторного подсчета одного и того же рецепта.\n",
        "\n",
        "  * Использование одного цикла для обновления словарей word_reviews и word_reviews_count с сохранением одной итерации по фрейму данных\n",
        "\n",
        "  * удалилa аргумент в методе split(), поскольку по умолчанию он разбивается на пробелы."
      ],
      "metadata": {
        "id": "pzh7GkEWukhI"
      }
    },
    {
      "cell_type": "markdown",
      "metadata": {
        "id": "GlTZNfA6PeIm"
      },
      "source": [
        "4. Напишите несколько версий функции `MAPE` (см. [MAPE](https://en.wikipedia.org/wiki/Mean_absolute_percentage_error)) для расчета среднего абсолютного процентного отклонения значения рейтинга отзыва на рецепт от среднего значения рейтинга по всем отзывам для этого рецепта. \n",
        "    1. Без использования векторизованных операций и методов массивов `numpy` и без использования `numba`\n",
        "    2. Без использования векторизованных операций и методов массивов `numpy`, но с использованием `numba`\n",
        "    3. С использованием векторизованных операций и методов массивов `numpy`, но без использования `numba`\n",
        "    4. C использованием векторизованных операций и методов массивов `numpy` и `numba`\n",
        "    \n",
        "Измерьте время выполнения каждой из реализаций.\n",
        "\n",
        "Замечание: удалите из выборки отзывы с нулевым рейтингом.\n"
      ]
    },
    {
      "cell_type": "code",
      "source": [
        "import pandas as pd\n",
        "import numpy as np\n",
        "from numba import jit\n",
        "\n",
        "# удаляем отзывы с нулевым рейтингом.\n",
        "reviews = reviews[reviews['rating'] > 0]\n",
        "\n",
        "def mape(ratings):\n",
        "    \"\"\"\n",
        "    Calculate the MAPE for the given ratings.\n",
        "    \"\"\"\n",
        "    mean_rating = np.mean(ratings)\n",
        "    abs_pct_error = np.abs(ratings - mean_rating) / mean_rating\n",
        "    mape = np.mean(abs_pct_error) * 100\n",
        "    return mape\n",
        "\n",
        "# Версия 1: Без использования векторизованных операций и методов массивов numpy и без использования numba\n",
        "def mape_v1(reviews):\n",
        "    mape_values = []\n",
        "    for recipe_id in reviews['recipe_id'].unique():\n",
        "        recipe_reviews = reviews[reviews['recipe_id'] == recipe_id]\n",
        "        ratings = recipe_reviews['rating']\n",
        "        mape_ = mape(ratings)\n",
        "        mape_values.append(mape_)\n",
        "    return mape_values\n",
        "\n",
        "# Версия 2: Без использования векторизованных операций и методов массивов numpy, но с использованием numba\n",
        "@jit(nopython=True)\n",
        "def mape_numba(ratings, mean_rating):\n",
        "    \"\"\"\n",
        "    Calculate the MAPE for the given ratings using numba to speed up the\n",
        "    calculations.\n",
        "    \"\"\"\n",
        "    n = ratings.shape[0]\n",
        "    abs_pct_error = np.empty(n)\n",
        "    for i in range(n):\n",
        "        abs_pct_error[i] = abs(ratings[i] - mean_rating) / mean_rating\n",
        "    mape = np.mean(abs_pct_error) * 100\n",
        "    return mape\n",
        "\n",
        "def mape_v2(reviews):\n",
        "    mape_values = []\n",
        "    for recipe_id in reviews['recipe_id'].unique():\n",
        "        recipe_reviews = reviews[reviews['recipe_id'] == recipe_id]\n",
        "        ratings = recipe_reviews['rating']\n",
        "        mean_rating = np.mean(ratings)\n",
        "        mape_ = mape_numba(ratings.values, mean_rating)\n",
        "        mape_values.append(mape_)\n",
        "    return mape_values\n",
        "\n",
        "                                   \n",
        "# Версия 3: С использованием векторизованных операций и методов массивов numpy, но без использования numba\n",
        "def mape_v3(reviews):\n",
        "    recipe_ids = reviews['recipe_id'].unique()\n",
        "    mean_ratings = reviews.groupby('recipe_id')['rating'].transform('mean')\n",
        "    mape_values = []\n",
        "    for i, recipe_id in enumerate(recipe_ids):\n",
        "        recipe_reviews = reviews[reviews['recipe_id'] == recipe_id]\n",
        "        ratings = recipe_reviews['rating']\n",
        "        mean_rating = mean_ratings[i]\n",
        "        abs_pct_error = np.abs(ratings - mean_rating) / mean_rating\n",
        "        mape = np.mean(abs_pct_error) * 100\n",
        "        mape_values.append(mape)\n",
        "    return mape_values\n",
        "\n",
        "# Версия 4: C использованием векторизованных операций и методов массивов numpy и numba\n",
        "@jit(nopython=True)\n",
        "def mape_numba_v2(ratings, mean_rating):\n",
        "    \"\"\"\n",
        "    Calculate the MAPE for the given ratings using vectorization and numba to\n",
        "    speed up the calculations.\n",
        "    \"\"\"\n",
        "    abs_pct_error = np.abs(ratings - mean_rating) / mean_rating\n",
        "    mape = np.mean(abs_pct_error) * 100\n",
        "    return mape\n",
        "\n",
        "def mape_v4(reviews):\n",
        "    recipe_ids = reviews['recipe_id'].unique()\n",
        "    mean_ratings = reviews.groupby('recipe_id')['rating'].transform('mean').values\n",
        "    mape_values = np.empty(len(recipe_ids))\n",
        "    for i, recipe_id in enumerate(recipe_ids):\n",
        "        recipe_reviews = reviews[reviews['recipe_id'] == recipe_id]\n",
        "        ratings = recipe_reviews['rating'].values\n",
        "        mean_rating = mean_ratings[i]\n",
        "        mape = mape_numba_v2(ratings, mean_rating)\n",
        "        mape_values[i] = mape\n",
        "    return mape_values\n",
        "\n"
      ],
      "metadata": {
        "id": "wA0mElHY0K4j"
      },
      "execution_count": 25,
      "outputs": []
    },
    {
      "cell_type": "code",
      "source": [
        "%lprun -f mape_v1 mape_v1(reviews)"
      ],
      "metadata": {
        "id": "9BOblJsRFcMg"
      },
      "execution_count": 26,
      "outputs": []
    },
    {
      "cell_type": "markdown",
      "source": [
        "\n",
        "Timer unit: 1e-09 s\n",
        "\n",
        "Total time: 49.2571 s\n",
        "File: <ipython-input-25-cc89f8e88c80>\n",
        "Function: mape_v1 at line 18\n",
        "\n",
        "Line #      Hits         Time  Per Hit   % Time  Line Contents\n",
        "==============================================================\n",
        "    18                                           def mape_v1(reviews):\n",
        "    19         1       1751.0   1751.0      0.0      mape_values = []\n",
        "    20     27440   37917176.0   1381.8      0.1      for recipe_id in reviews['recipe_id'].unique():\n",
        "    21     27440 23895637741.0 870832.3     48.5          recipe_reviews = reviews[reviews['recipe_id'] == recipe_id]\n",
        "    22     27440 2098465184.0  76474.7      4.3          ratings = recipe_reviews['rating']\n",
        "    23     27440 23188017079.0 845044.4     47.1          mape_ = mape(ratings)\n",
        "    24     27440   37019039.0   1349.1      0.1          mape_values.append(mape_)\n",
        "    25         1        184.0    184.0      0.0      return mape_values"
      ],
      "metadata": {
        "id": "ITqUIGjDFtYB"
      }
    },
    {
      "cell_type": "code",
      "source": [
        "%lprun -f mape_v2 mape_v2(reviews)"
      ],
      "metadata": {
        "id": "FXMyMpGxGZRR"
      },
      "execution_count": 27,
      "outputs": []
    },
    {
      "cell_type": "markdown",
      "source": [
        "Timer unit: 1e-09 s\n",
        "\n",
        "Total time: 32.3091 s\n",
        "File: <ipython-input-25-cc89f8e88c80>\n",
        "Function: mape_v2 at line 41\n",
        "\n",
        "Line #      Hits         Time  Per Hit   % Time  Line Contents\n",
        "==============================================================\n",
        "    41                                           def mape_v2(reviews):\n",
        "    42         1      10435.0  10435.0      0.0      mape_values = []\n",
        "    43     27440   36888419.0   1344.3      0.1      for recipe_id in reviews['recipe_id'].unique():\n",
        "    44     27440 23418976148.0 853461.2     72.5          recipe_reviews = reviews[reviews['recipe_id'] == recipe_id]\n",
        "    45     27440 2089952380.0  76164.4      6.5          ratings = recipe_reviews['rating']\n",
        "    46     27440 5358250306.0 195271.5     16.6          mean_rating = np.mean(ratings)\n",
        "    47     27440 1374418784.0  50088.1      4.3          mape_ = mape_numba(ratings.values, mean_rating)\n",
        "    48     27440   30573424.0   1114.2      0.1          mape_values.append(mape_)\n",
        "    49         1        192.0    192.0      0.0      return mape_values"
      ],
      "metadata": {
        "id": "QURiwSxwGkti"
      }
    },
    {
      "cell_type": "code",
      "source": [
        "%lprun -f mape_v4 mape_v4(reviews)"
      ],
      "metadata": {
        "id": "PC-ykehGGnMS"
      },
      "execution_count": 28,
      "outputs": []
    },
    {
      "cell_type": "markdown",
      "source": [
        "Timer unit: 1e-09 s\n",
        "\n",
        "Total time: 27.204 s\n",
        "File: <ipython-input-25-cc89f8e88c80>\n",
        "Function: mape_v4 at line 77\n",
        "\n",
        "Line #      Hits         Time  Per Hit   % Time  Line Contents\n",
        "==============================================================\n",
        "    77                                           def mape_v4(reviews):\n",
        "    78         1   10388573.0 10388573.0      0.0      recipe_ids = reviews['recipe_id'].unique()\n",
        "    79         1   37488870.0 37488870.0      0.1      mean_ratings = reviews.groupby('recipe_id')['rating'].transform('mean').values\n",
        "    80         1      11249.0  11249.0      0.0      mape_values = np.empty(len(recipe_ids))\n",
        "    81     27440   34617592.0   1261.6      0.1      for i, recipe_id in enumerate(recipe_ids):\n",
        "    82     27440 23952319317.0 872897.9     88.0          recipe_reviews = reviews[reviews['recipe_id'] == recipe_id]\n",
        "    83     27440 2244780778.0  81806.9      8.3          ratings = recipe_reviews['rating'].values\n",
        "    84     27440   28721134.0   1046.7      0.1          mean_rating = mean_ratings[i]\n",
        "    85     27440  852378712.0  31063.4      3.1          mape = mape_numba_v2(ratings, mean_rating)\n",
        "    86     27440   43280353.0   1577.3      0.2          mape_values[i] = mape\n",
        "    87         1        267.0    267.0      0.0      return mape_values"
      ],
      "metadata": {
        "id": "wnmYpv5_GnTp"
      }
    }
  ],
  "metadata": {
    "kernelspec": {
      "display_name": "Python 3",
      "language": "python",
      "name": "python3"
    },
    "language_info": {
      "codemirror_mode": {
        "name": "ipython",
        "version": 3
      },
      "file_extension": ".py",
      "mimetype": "text/x-python",
      "name": "python",
      "nbconvert_exporter": "python",
      "pygments_lexer": "ipython3",
      "version": "3.7.4"
    },
    "colab": {
      "provenance": []
    }
  },
  "nbformat": 4,
  "nbformat_minor": 0
}